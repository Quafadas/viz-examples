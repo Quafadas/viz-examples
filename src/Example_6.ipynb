{
 "cells": [
  {
   "cell_type": "markdown",
   "metadata": {},
   "source": [
    "# Typesafe plotting?\n",
    "One idea of how to \"avoid vega\" was to see if we could make this \"typesafe\". Somehow. If you had a bunch of case classes which followed the vega JSON structure, then you'd get tab completion, editor support etc. Maybe this would dodge the \"having to learn vega\" problem.\n",
    "\n",
    "It turns out, that vega publish a [schema](https://github.com/vega/schema). What you'd now need, is a tool which [turned JSON schema into case classes](https://quicktype.io) along with someone nutty enough to fork it, [implement dodgy, experimental scala 3 support](https://github.com/Quafadas/quicktype/blob/scala3/src/quicktype-core/language/Scala3.ts) and point it at the vega schema. Then you'd get some [code]() and [javadoc]() along these lines, and could try this;"
   ]
  },
  {
   "cell_type": "code",
   "execution_count": 3,
   "metadata": {},
   "outputs": [
    {
     "name": "stdout",
     "output_type": "stream",
     "text": [
      "exception caught when loading class $: java.lang.AssertionError: assertion failed\n"
     ]
    },
    {
     "ename": "",
     "evalue": "",
     "output_type": "error",
     "traceback": [
      "\u001b[31mscala.MatchError: class dotty.tools.dotc.reporting.Diagnostic at cmd3.sc:[378..380]: ']' expected, but '<:' found (of class dotty.tools.dotc.reporting.Diagnostic)\u001b[39m\n  dotty.tools.dotc.reporting.MessageRendering.diagnosticLevel(\u001b[32mMessageRendering.scala\u001b[39m:\u001b[32m201\u001b[39m)\n  dotty.tools.dotc.reporting.MessageRendering.diagnosticLevel$(\u001b[32mMessageRendering.scala\u001b[39m:\u001b[32m18\u001b[39m)\n  ammonite.compiler.Compiler$$anon$10.diagnosticLevel(\u001b[32mCompiler.scala\u001b[39m:\u001b[32m510\u001b[39m)\n  dotty.tools.dotc.reporting.MessageRendering.messageAndPos(\u001b[32mMessageRendering.scala\u001b[39m:\u001b[32m165\u001b[39m)\n  dotty.tools.dotc.reporting.MessageRendering.messageAndPos$(\u001b[32mMessageRendering.scala\u001b[39m:\u001b[32m18\u001b[39m)\n  ammonite.compiler.Compiler$$anon$10.messageAndPos(\u001b[32mCompiler.scala\u001b[39m:\u001b[32m510\u001b[39m)\n  ammonite.compiler.internal.CompilerHelper$.messageAndPos(\u001b[32mCompilerHelper.scala\u001b[39m:\u001b[32m14\u001b[39m)\n  ammonite.compiler.Compiler.formatError$$anonfun$1(\u001b[32mCompiler.scala\u001b[39m:\u001b[32m170\u001b[39m)\n  dotty.tools.dotc.reporting.NoExplanation.msg(\u001b[32mMessage.scala\u001b[39m:\u001b[32m132\u001b[39m)\n  dotty.tools.dotc.reporting.NoExplanation.toString(\u001b[32mMessage.scala\u001b[39m:\u001b[32m136\u001b[39m)\n  ammonite.compiler.Compiler.compile$$anonfun$3(\u001b[32mCompiler.scala\u001b[39m:\u001b[32m274\u001b[39m)\n  scala.collection.immutable.List.map(\u001b[32mList.scala\u001b[39m:\u001b[32m246\u001b[39m)\n  ammonite.compiler.Compiler.compile(\u001b[32mCompiler.scala\u001b[39m:\u001b[32m274\u001b[39m)\n  ammonite.compiler.CompilerLifecycleManager.compileClass(\u001b[32mCompilerLifecycleManager.scala\u001b[39m:\u001b[32m131\u001b[39m)\n  ammonite.interp.Interpreter.$anonfun$evaluateLine$2(\u001b[32mInterpreter.scala\u001b[39m:\u001b[32m294\u001b[39m)\n  ammonite.util.Catching.flatMap(\u001b[32mRes.scala\u001b[39m:\u001b[32m115\u001b[39m)\n  ammonite.interp.Interpreter.evaluateLine(\u001b[32mInterpreter.scala\u001b[39m:\u001b[32m289\u001b[39m)\n  ammonite.interp.Interpreter.$anonfun$processLine$6(\u001b[32mInterpreter.scala\u001b[39m:\u001b[32m277\u001b[39m)\n  ammonite.util.Res$Success.flatMap(\u001b[32mRes.scala\u001b[39m:\u001b[32m62\u001b[39m)\n  ammonite.interp.Interpreter.$anonfun$processLine$4(\u001b[32mInterpreter.scala\u001b[39m:\u001b[32m260\u001b[39m)\n  ammonite.util.Res$Success.flatMap(\u001b[32mRes.scala\u001b[39m:\u001b[32m62\u001b[39m)\n  ammonite.interp.Interpreter.$anonfun$processLine$2(\u001b[32mInterpreter.scala\u001b[39m:\u001b[32m253\u001b[39m)\n  ammonite.util.Catching.flatMap(\u001b[32mRes.scala\u001b[39m:\u001b[32m115\u001b[39m)\n  ammonite.interp.Interpreter.processLine(\u001b[32mInterpreter.scala\u001b[39m:\u001b[32m252\u001b[39m)\n  almond.Execute.ammResult$$anonfun$4$$anonfun$3$$anonfun$2$$anonfun$2$$anonfun$2$$anonfun$2(\u001b[32mExecute.scala\u001b[39m:\u001b[32m249\u001b[39m)\n  almond.internals.CaptureImpl.apply$$anonfun$2$$anonfun$1(\u001b[32mCaptureImpl.scala\u001b[39m:\u001b[32m53\u001b[39m)\n  scala.util.DynamicVariable.withValue(\u001b[32mDynamicVariable.scala\u001b[39m:\u001b[32m59\u001b[39m)\n  scala.Console$.withErr(\u001b[32mConsole.scala\u001b[39m:\u001b[32m193\u001b[39m)\n  almond.internals.CaptureImpl.apply$$anonfun$1(\u001b[32mCaptureImpl.scala\u001b[39m:\u001b[32m58\u001b[39m)\n  scala.util.DynamicVariable.withValue(\u001b[32mDynamicVariable.scala\u001b[39m:\u001b[32m59\u001b[39m)\n  scala.Console$.withOut(\u001b[32mConsole.scala\u001b[39m:\u001b[32m164\u001b[39m)\n  almond.internals.CaptureImpl.apply(\u001b[32mCaptureImpl.scala\u001b[39m:\u001b[32m59\u001b[39m)\n  almond.Execute.capturingOutput(\u001b[32mExecute.scala\u001b[39m:\u001b[32m166\u001b[39m)\n  almond.Execute.ammResult$$anonfun$5$$anonfun$4$$anonfun$3$$anonfun$3$$anonfun$3(\u001b[32mExecute.scala\u001b[39m:\u001b[32m301\u001b[39m)\n  almond.Execute.withClientStdin$$anonfun$1(\u001b[32mExecute.scala\u001b[39m:\u001b[32m146\u001b[39m)\n  scala.util.DynamicVariable.withValue(\u001b[32mDynamicVariable.scala\u001b[39m:\u001b[32m59\u001b[39m)\n  scala.Console$.withIn(\u001b[32mConsole.scala\u001b[39m:\u001b[32m227\u001b[39m)\n  almond.Execute.withClientStdin(\u001b[32mExecute.scala\u001b[39m:\u001b[32m151\u001b[39m)\n  almond.Execute.ammResult$$anonfun$6$$anonfun$5$$anonfun$4$$anonfun$4(\u001b[32mExecute.scala\u001b[39m:\u001b[32m302\u001b[39m)\n  almond.Execute.withInputManager(\u001b[32mExecute.scala\u001b[39m:\u001b[32m134\u001b[39m)\n  almond.Execute.ammResult$$anonfun$7$$anonfun$6$$anonfun$5(\u001b[32mExecute.scala\u001b[39m:\u001b[32m303\u001b[39m)\n  almond.Execute.interruptible$$anonfun$2(\u001b[32mExecute.scala\u001b[39m:\u001b[32m183\u001b[39m)\n  ammonite.repl.Signaller.apply(\u001b[32mSignaller.scala\u001b[39m:\u001b[32m28\u001b[39m)\n  almond.Execute.interruptible(\u001b[32mExecute.scala\u001b[39m:\u001b[32m184\u001b[39m)\n  almond.Execute.ammResult$$anonfun$9$$anonfun$8(\u001b[32mExecute.scala\u001b[39m:\u001b[32m304\u001b[39m)\n  ammonite.util.Res$Success.flatMap(\u001b[32mRes.scala\u001b[39m:\u001b[32m62\u001b[39m)\n  almond.Execute.ammResult$$anonfun$1(\u001b[32mExecute.scala\u001b[39m:\u001b[32m305\u001b[39m)\n  almond.Execute.withOutputHandler(\u001b[32mExecute.scala\u001b[39m:\u001b[32m157\u001b[39m)\n  almond.Execute.ammResult(\u001b[32mExecute.scala\u001b[39m:\u001b[32m306\u001b[39m)\n  almond.Execute.apply(\u001b[32mExecute.scala\u001b[39m:\u001b[32m322\u001b[39m)\n  almond.ScalaInterpreter.execute(\u001b[32mScalaInterpreter.scala\u001b[39m:\u001b[32m129\u001b[39m)\n  almond.interpreter.InterpreterToIOInterpreter.$anonfun$execute$2(\u001b[32mInterpreterToIOInterpreter.scala\u001b[39m:\u001b[32m69\u001b[39m)\n  cats.effect.internals.IORunLoop$.cats$effect$internals$IORunLoop$$loop(\u001b[32mIORunLoop.scala\u001b[39m:\u001b[32m108\u001b[39m)\n  cats.effect.internals.IORunLoop$RestartCallback.signal(\u001b[32mIORunLoop.scala\u001b[39m:\u001b[32m480\u001b[39m)\n  cats.effect.internals.IORunLoop$RestartCallback.apply(\u001b[32mIORunLoop.scala\u001b[39m:\u001b[32m501\u001b[39m)\n  cats.effect.internals.IORunLoop$RestartCallback.apply(\u001b[32mIORunLoop.scala\u001b[39m:\u001b[32m439\u001b[39m)\n  cats.effect.internals.IOShift$Tick.run(\u001b[32mIOShift.scala\u001b[39m:\u001b[32m36\u001b[39m)\n  java.util.concurrent.ThreadPoolExecutor.runWorker(\u001b[32mThreadPoolExecutor.java\u001b[39m:\u001b[32m1136\u001b[39m)\n  java.util.concurrent.ThreadPoolExecutor$Worker.run(\u001b[32mThreadPoolExecutor.java\u001b[39m:\u001b[32m635\u001b[39m)\n  java.lang.Thread.run(\u001b[32mThread.java\u001b[39m:\u001b[32m833\u001b[39m)"
     ]
    }
   ],
   "source": [
    "import $ivy.`io.github.quafadas::dedav4s:0.8.1`\n",
    "\n",
    "import viz.PlotTargets.almond\n",
    "import viz.dsl.vegaLite.*\n",
    "import viz.dsl.DslPlot.*\n",
    "\n",
    "trait XYPlottable extends Selectable:\n",
    "  val x: Double\n",
    "  val y: Double\n",
    "\n",
    "trait LinePlottable extends XYPlottable\n",
    "\n",
    "case class LinePlottable1(xVar:Double, yVar:Double) extends LinePlottable {\n",
    "  val x = xVar\n",
    "  val y = yVar\n",
    "}\n",
    "\n",
    "extension [P <: XYPlottable](p: Seq[P])\n",
    "  def toPlotDataset: URLData = \n",
    "    val inlineDataset : InlineDataset = for(p1 <- p) yield {\n",
    "        //enc.encodeObject(p1).toMap.mapValues(_.some).toMap\n",
    "        Map(\"x\"-> Encoder.encodeDouble(p1.x).some, \"y\" -> Encoder.encodeDouble(p1.y ).some)\n",
    "      }\n",
    "    URLData(\n",
    "      values = inlineDataset.some\n",
    "    )\n",
    "\n",
    "// extension ( xyPlottable: Seq[LinePlottable1] )(using pt: PlotTarget)\n",
    "//   def linePlot = \n",
    "//     val data = xyPlottable.toPlotDataset.some\n",
    "//     val plotDef = VegaLiteDsl(\n",
    "//       $schema = \"https://vega.github.io/schema/vega-lite/v5.json\".some,\n",
    "//       description = \"a Test\".some,\n",
    "//       data = data,\n",
    "//       mark = \"line\".some,\n",
    "//       encoding = EdEncoding(\n",
    "//         x = XClass(field = \"x\".some, `type`= \"quantitative\".some).some,\n",
    "//         y = YClass(field = \"y\".some, `type`= \"quantitative\".some).some\n",
    "//       ).some,\n",
    "//       height = \"container\".some,\n",
    "//       width = \"container\".some\n",
    "//     )\n",
    "//     plotDef.plot(using pt)\n",
    "\n",
    "// val interesting = Mysterious(1.0,2.0, \"hi\")  \n",
    "// val plotMe = Seq(    \n",
    "//   NotPlottable(1.0,2.0),\n",
    "//   NotPlottable(2.5,3.5)\n",
    "// ).barPlot()"
   ]
  },
  {
   "cell_type": "code",
   "execution_count": 21,
   "metadata": {},
   "outputs": [
    {
     "data": {
      "application/vnd.vega.v5+json": {
       "$schema": "https://vega.github.io/schema/vega/v5.json",
       "autosize": "none",
       "data": [
        {
         "name": "table",
         "transform": [
          {
           "endAngle": {
            "signal": "endAngle"
           },
           "field": "field",
           "sort": {
            "signal": "sort"
           },
           "startAngle": {
            "signal": "startAngle"
           },
           "type": "pie"
          }
         ],
         "values": [
          {
           "field": 1,
           "id": "textarea"
          },
          {
           "field": 18,
           "id": "span"
          },
          {
           "field": 7,
           "id": "svg"
          },
          {
           "field": 4,
           "id": "img"
          },
          {
           "field": 27,
           "id": "a"
          },
          {
           "field": 117,
           "id": "div"
          },
          {
           "field": 1,
           "id": "g-popup"
          },
          {
           "field": 8,
           "id": "g-menu-item"
          },
          {
           "field": 1,
           "id": "noscript"
          },
          {
           "field": 1,
           "id": "h1"
          },
          {
           "field": 8,
           "id": "input"
          },
          {
           "field": 1,
           "id": "dialog"
          },
          {
           "field": 10,
           "id": "path"
          },
          {
           "field": 1,
           "id": "rect"
          },
          {
           "field": 90,
           "id": "li"
          },
          {
           "field": 35,
           "id": "style"
          },
          {
           "field": 2,
           "id": "center"
          },
          {
           "field": 1,
           "id": "g-menu"
          },
          {
           "field": 3,
           "id": "ul"
          },
          {
           "field": 5,
           "id": "button"
          },
          {
           "field": 1,
           "id": "meta"
          },
          {
           "field": 5,
           "id": "script"
          },
          {
           "field": 1,
           "id": "form"
          }
         ]
        }
       ],
       "description": "A basic pie chart example.",
       "height": 600,
       "marks": [
        {
         "encode": {
          "enter": {
           "fill": {
            "field": "id",
            "scale": "color"
           },
           "x": {
            "signal": "width / 2"
           },
           "y": {
            "signal": "height / 2"
           }
          },
          "update": {
           "cornerRadius": {
            "signal": "cornerRadius"
           },
           "endAngle": {
            "field": "endAngle"
           },
           "innerRadius": {
            "signal": "innerRadius"
           },
           "outerRadius": {
            "signal": "width / 2"
           },
           "padAngle": {
            "signal": "padAngle"
           },
           "startAngle": {
            "field": "startAngle"
           }
          }
         },
         "from": {
          "data": "table"
         },
         "type": "arc"
        }
       ],
       "scales": [
        {
         "domain": {
          "data": "table",
          "field": "id"
         },
         "name": "color",
         "range": {
          "scheme": "category20"
         },
         "type": "ordinal"
        }
       ],
       "signals": [
        {
         "bind": {
          "input": "range",
          "max": 6.29,
          "min": 0,
          "step": 0.01
         },
         "name": "startAngle",
         "value": 0
        },
        {
         "bind": {
          "input": "range",
          "max": 6.29,
          "min": 0,
          "step": 0.01
         },
         "name": "endAngle",
         "value": 6.29
        },
        {
         "bind": {
          "input": "range",
          "max": 0.1,
          "min": 0
         },
         "name": "padAngle",
         "value": 0
        },
        {
         "bind": {
          "input": "range",
          "max": 90,
          "min": 0,
          "step": 1
         },
         "name": "innerRadius",
         "value": 0
        },
        {
         "bind": {
          "input": "range",
          "max": 10,
          "min": 0,
          "step": 0.5
         },
         "name": "cornerRadius",
         "value": 0
        },
        {
         "bind": {
          "input": "checkbox"
         },
         "name": "sort",
         "value": false
        }
       ],
       "width": 600
      }
     },
     "metadata": {},
     "output_type": "display_data"
    },
    {
     "data": {
      "text/plain": [
       "\u001b[36mres20\u001b[39m: \u001b[32mPieChart\u001b[39m = \u001b[33mPieChart\u001b[39m(\n",
       "  mods = \u001b[33mList\u001b[39m(\n",
       "    ammonite.$sess.cmd17$Helper$$Lambda$3590/0x00000008016f2e68@7ec1f41b,\n",
       "    ammonite.$sess.cmd17$Helper$$Lambda$3591/0x00000008016f3268@136d214f,\n",
       "    ammonite.$sess.cmd17$Helper$$Lambda$3592/0x00000008016f3668@31d934b8\n",
       "  )\n",
       ")"
      ]
     },
     "execution_count": 21,
     "metadata": {},
     "output_type": "execute_result"
    }
   ],
   "source": [
    "plotElementDist(\"https://google.com\")\n",
    "//val plot = plotElementDist(\"https://google.com\")\n",
    "// show(plot.spec) // for debugging a troublesome spec"
   ]
  },
  {
   "cell_type": "code",
   "execution_count": 20,
   "metadata": {},
   "outputs": [
    {
     "data": {
      "application/vnd.vega.v5+json": {
       "$schema": "https://vega.github.io/schema/vega/v5.json",
       "autosize": "none",
       "data": [
        {
         "name": "table",
         "transform": [
          {
           "endAngle": {
            "signal": "endAngle"
           },
           "field": "field",
           "sort": {
            "signal": "sort"
           },
           "startAngle": {
            "signal": "startAngle"
           },
           "type": "pie"
          }
         ],
         "values": [
          {
           "field": 12,
           "id": "pre"
          },
          {
           "field": 22,
           "id": "span"
          },
          {
           "field": 30,
           "id": "h3"
          },
          {
           "field": 1,
           "id": "nav"
          },
          {
           "field": 21,
           "id": "img"
          },
          {
           "field": 11,
           "id": "ul"
          },
          {
           "field": 68,
           "id": "a"
          },
          {
           "field": 117,
           "id": "div"
          },
          {
           "field": 14,
           "id": "i"
          },
          {
           "field": 2,
           "id": "em"
          },
          {
           "field": 27,
           "id": "p"
          },
          {
           "field": 14,
           "id": "script"
          },
          {
           "field": 48,
           "id": "li"
          },
          {
           "field": 3,
           "id": "br"
          },
          {
           "field": 1,
           "id": "main"
          },
          {
           "field": 5,
           "id": "section"
          },
          {
           "field": 35,
           "id": "code"
          },
          {
           "field": 5,
           "id": "h2"
          },
          {
           "field": 1,
           "id": "h1"
          },
          {
           "field": 1,
           "id": "header"
          },
          {
           "field": 1,
           "id": "footer"
          },
          {
           "field": 1,
           "id": "input"
          }
         ]
        }
       ],
       "description": "A basic pie chart example.",
       "height": 600,
       "marks": [
        {
         "encode": {
          "enter": {
           "fill": {
            "field": "id",
            "scale": "color"
           },
           "x": {
            "signal": "width / 2"
           },
           "y": {
            "signal": "height / 2"
           }
          },
          "update": {
           "cornerRadius": {
            "signal": "cornerRadius"
           },
           "endAngle": {
            "field": "endAngle"
           },
           "innerRadius": {
            "signal": "innerRadius"
           },
           "outerRadius": {
            "signal": "width / 2"
           },
           "padAngle": {
            "signal": "padAngle"
           },
           "startAngle": {
            "field": "startAngle"
           }
          }
         },
         "from": {
          "data": "table"
         },
         "type": "arc"
        }
       ],
       "scales": [
        {
         "domain": {
          "data": "table",
          "field": "id"
         },
         "name": "color",
         "range": {
          "scheme": "category20"
         },
         "type": "ordinal"
        }
       ],
       "signals": [
        {
         "bind": {
          "input": "range",
          "max": 6.29,
          "min": 0,
          "step": 0.01
         },
         "name": "startAngle",
         "value": 0
        },
        {
         "bind": {
          "input": "range",
          "max": 6.29,
          "min": 0,
          "step": 0.01
         },
         "name": "endAngle",
         "value": 6.29
        },
        {
         "bind": {
          "input": "range",
          "max": 0.1,
          "min": 0
         },
         "name": "padAngle",
         "value": 0
        },
        {
         "bind": {
          "input": "range",
          "max": 90,
          "min": 0,
          "step": 1
         },
         "name": "innerRadius",
         "value": 0
        },
        {
         "bind": {
          "input": "range",
          "max": 10,
          "min": 0,
          "step": 0.5
         },
         "name": "cornerRadius",
         "value": 0
        },
        {
         "bind": {
          "input": "checkbox"
         },
         "name": "sort",
         "value": false
        }
       ],
       "width": 600
      }
     },
     "metadata": {},
     "output_type": "display_data"
    },
    {
     "data": {
      "text/plain": [
       "\u001b[36mres19\u001b[39m: \u001b[32mPieChart\u001b[39m = \u001b[33mPieChart\u001b[39m(\n",
       "  mods = \u001b[33mList\u001b[39m(\n",
       "    ammonite.$sess.cmd17$Helper$$Lambda$3590/0x00000008016f2e68@7ec1f41b,\n",
       "    ammonite.$sess.cmd17$Helper$$Lambda$3591/0x00000008016f3268@136d214f,\n",
       "    ammonite.$sess.cmd17$Helper$$Lambda$3592/0x00000008016f3668@335ba5df\n",
       "  )\n",
       ")"
      ]
     },
     "execution_count": 20,
     "metadata": {},
     "output_type": "execute_result"
    }
   ],
   "source": [
    "plotElementDist(\"https://www.scala-lang.org\")"
   ]
  },
  {
   "cell_type": "markdown",
   "metadata": {},
   "source": [
    "I quite like this, because once the setup problem is solved, the \"intent\" is, to my eye, rather readable. Whilst plotting the html element counts of popular websites is... pointless, this should extend nicely to other, helpful problems :-)."
   ]
  },
  {
   "cell_type": "markdown",
   "metadata": {},
   "source": [
    "## Elephant\n",
    "\n",
    "There is however, a rather large elephant in the room - for this to work \"for you\", you have to be willing to do the legwork of learning vega. Whilst easy enough to trace the spec back, and find the \"example\" this refers to... you'll need to understand and ultimately innovate on vega. \n",
    "\n",
    "That is actually a pretty fun undertaking... but it's (at least) a multiple day time investment. (A worthwhile one, I claim!)"
   ]
  }
 ],
 "metadata": {
  "kernelspec": {
   "display_name": "Scala",
   "language": "scala",
   "name": "scala"
  },
  "language_info": {
   "codemirror_mode": "text/x-scala",
   "file_extension": ".sc",
   "mimetype": "text/x-scala",
   "name": "scala",
   "nbconvert_exporter": "script",
   "version": "2.13.8"
  },
  "orig_nbformat": 4
 },
 "nbformat": 4,
 "nbformat_minor": 2
}
