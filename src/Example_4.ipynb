{
 "cells": [
  {
   "cell_type": "markdown",
   "metadata": {},
   "source": [
    "# Implementing some abstractions\n",
    "At this stage, I claim we've stumbled on a pattern that we might want to re-use. Vega / lite publish a [comprehensive](https://vega.github.io/vega/examples/) set of [examples](https://vega.github.io/vega-lite/examples/) - we want to start from them, modify them, and plot our chart in some \"context\". \n",
    "\n",
    "One idea would be to [write a script](https://github.com/Quafadas/dedav4s/blob/main/core/jvm/src/main/scala/viz/genVegaPlots.sc) which scrapes the ~~examples~~ [links to the examples](https://github.com/Quafadas/dedav4s/blob/main/core/shared/src/main/scala/viz/vega/plots/SpecUrls.scala) off the vega/lite website. Given that, you need only a very simple http library, to go fetch those battle-tested-part-of-the-core-vega-library starting points.\n",
    "\n",
    "We'll pragmatically accept mutability and [iterate around](https://github.com/Quafadas/dedav4s/blob/861c3fa38f41084f9d2e1ea168da40aab22eccf5/core/shared/src/main/scala/viz/WithBaseSpec.scala#L31) a ```Seq[ujson.Value => Unit]``` (a list of side effects) as a way to apply changes to the spec. \n",
    "\n",
    "Context sounds a lot like `implicit` / `given` to my mind. Let's call it a [\"plot target\"](https://github.com/Quafadas/dedav4s/blob/861c3fa38f41084f9d2e1ea168da40aab22eccf5/core/jvm/src/main/scala/viz/PlotTarget.scala#L122)...\n",
    "\n",
    "And with all this machinery we could write something which both abstracts away the messy business of the plot itself, and keeps the intent pretty clear. Let's plot the distrubition of html tags for some arbitrary website. "
   ]
  },
  {
   "cell_type": "code",
   "execution_count": 18,
   "metadata": {},
   "outputs": [
    {
     "data": {
      "text/plain": [
       "\u001b[32mimport \u001b[39m\u001b[36m$ivy.$                       \n",
       "\u001b[39m\n",
       "\u001b[32mimport \u001b[39m\u001b[36m$ivy.$                                  \n",
       "\n",
       "\u001b[39m\n",
       "\u001b[32mimport \u001b[39m\u001b[36morg.jsoup._\n",
       "\u001b[39m\n",
       "\u001b[32mimport \u001b[39m\u001b[36mcollection.JavaConverters._\n",
       "\u001b[39m\n",
       "\u001b[32mimport \u001b[39m\u001b[36mviz.PlotTargets.almond\n",
       "\u001b[39m\n",
       "\u001b[32mimport \u001b[39m\u001b[36mviz.vega.plots.PieChart\n",
       "\n",
       "\u001b[39m\n",
       "defined \u001b[32mfunction\u001b[39m \u001b[36mplotElementDist\u001b[39m"
      ]
     },
     "execution_count": 18,
     "metadata": {},
     "output_type": "execute_result"
    }
   ],
   "source": [
    "import $ivy.`org.jsoup:jsoup:1.15.3`\n",
    "import $ivy.`io.github.quafadas::dedav4s:0.9-2176b4b-20230421T114100Z-SNAPSHOT`\n",
    "\n",
    "import org.jsoup._\n",
    "import collection.JavaConverters._\n",
    "import viz.PlotTargets.almond\n",
    "import viz.vega.plots.PieChart\n",
    "\n",
    "def plotElementDist(url:String) =\n",
    "  val doc = Jsoup.connect(url).get\n",
    "  val els = doc.body().children().select(\"*\").asScala\n",
    "  val counted = els.groupMapReduce(_.tag.toString())(_ => 1)(_ + _)\n",
    "  val data = for ((label, number) <- counted)\n",
    "    yield ujson.Obj(\n",
    "      \"id\" -> label,\n",
    "      \"field\" -> number.toDouble\n",
    "    )\n",
    "  // This \"PieChart\" case class, is the abstraction described above.  \n",
    "  PieChart(\n",
    "    List(      \n",
    "      spec => spec(\"height\") = 600,\n",
    "      spec => spec(\"width\") = 600,\n",
    "      (spec: ujson.Value) => spec(\"data\")(0)(\"values\") = data\n",
    "    )\n",
    "  )"
   ]
  },
  {
   "cell_type": "code",
   "execution_count": 21,
   "metadata": {},
   "outputs": [
    {
     "data": {
      "application/vnd.vega.v5+json": {
       "$schema": "https://vega.github.io/schema/vega/v5.json",
       "autosize": "none",
       "data": [
        {
         "name": "table",
         "transform": [
          {
           "endAngle": {
            "signal": "endAngle"
           },
           "field": "field",
           "sort": {
            "signal": "sort"
           },
           "startAngle": {
            "signal": "startAngle"
           },
           "type": "pie"
          }
         ],
         "values": [
          {
           "field": 1,
           "id": "textarea"
          },
          {
           "field": 18,
           "id": "span"
          },
          {
           "field": 7,
           "id": "svg"
          },
          {
           "field": 4,
           "id": "img"
          },
          {
           "field": 27,
           "id": "a"
          },
          {
           "field": 117,
           "id": "div"
          },
          {
           "field": 1,
           "id": "g-popup"
          },
          {
           "field": 8,
           "id": "g-menu-item"
          },
          {
           "field": 1,
           "id": "noscript"
          },
          {
           "field": 1,
           "id": "h1"
          },
          {
           "field": 8,
           "id": "input"
          },
          {
           "field": 1,
           "id": "dialog"
          },
          {
           "field": 10,
           "id": "path"
          },
          {
           "field": 1,
           "id": "rect"
          },
          {
           "field": 90,
           "id": "li"
          },
          {
           "field": 35,
           "id": "style"
          },
          {
           "field": 2,
           "id": "center"
          },
          {
           "field": 1,
           "id": "g-menu"
          },
          {
           "field": 3,
           "id": "ul"
          },
          {
           "field": 5,
           "id": "button"
          },
          {
           "field": 1,
           "id": "meta"
          },
          {
           "field": 5,
           "id": "script"
          },
          {
           "field": 1,
           "id": "form"
          }
         ]
        }
       ],
       "description": "A basic pie chart example.",
       "height": 600,
       "marks": [
        {
         "encode": {
          "enter": {
           "fill": {
            "field": "id",
            "scale": "color"
           },
           "x": {
            "signal": "width / 2"
           },
           "y": {
            "signal": "height / 2"
           }
          },
          "update": {
           "cornerRadius": {
            "signal": "cornerRadius"
           },
           "endAngle": {
            "field": "endAngle"
           },
           "innerRadius": {
            "signal": "innerRadius"
           },
           "outerRadius": {
            "signal": "width / 2"
           },
           "padAngle": {
            "signal": "padAngle"
           },
           "startAngle": {
            "field": "startAngle"
           }
          }
         },
         "from": {
          "data": "table"
         },
         "type": "arc"
        }
       ],
       "scales": [
        {
         "domain": {
          "data": "table",
          "field": "id"
         },
         "name": "color",
         "range": {
          "scheme": "category20"
         },
         "type": "ordinal"
        }
       ],
       "signals": [
        {
         "bind": {
          "input": "range",
          "max": 6.29,
          "min": 0,
          "step": 0.01
         },
         "name": "startAngle",
         "value": 0
        },
        {
         "bind": {
          "input": "range",
          "max": 6.29,
          "min": 0,
          "step": 0.01
         },
         "name": "endAngle",
         "value": 6.29
        },
        {
         "bind": {
          "input": "range",
          "max": 0.1,
          "min": 0
         },
         "name": "padAngle",
         "value": 0
        },
        {
         "bind": {
          "input": "range",
          "max": 90,
          "min": 0,
          "step": 1
         },
         "name": "innerRadius",
         "value": 0
        },
        {
         "bind": {
          "input": "range",
          "max": 10,
          "min": 0,
          "step": 0.5
         },
         "name": "cornerRadius",
         "value": 0
        },
        {
         "bind": {
          "input": "checkbox"
         },
         "name": "sort",
         "value": false
        }
       ],
       "width": 600
      }
     },
     "metadata": {},
     "output_type": "display_data"
    },
    {
     "data": {
      "text/plain": [
       "\u001b[36mres20\u001b[39m: \u001b[32mPieChart\u001b[39m = \u001b[33mPieChart\u001b[39m(\n",
       "  mods = \u001b[33mList\u001b[39m(\n",
       "    ammonite.$sess.cmd17$Helper$$Lambda$3590/0x00000008016f2e68@7ec1f41b,\n",
       "    ammonite.$sess.cmd17$Helper$$Lambda$3591/0x00000008016f3268@136d214f,\n",
       "    ammonite.$sess.cmd17$Helper$$Lambda$3592/0x00000008016f3668@31d934b8\n",
       "  )\n",
       ")"
      ]
     },
     "execution_count": 21,
     "metadata": {},
     "output_type": "execute_result"
    }
   ],
   "source": [
    "plotElementDist(\"https://google.com\")\n",
    "//val plot = plotElementDist(\"https://google.com\")\n",
    "// show(plot.spec) // for debugging a troublesome spec"
   ]
  },
  {
   "cell_type": "code",
   "execution_count": 20,
   "metadata": {},
   "outputs": [
    {
     "data": {
      "application/vnd.vega.v5+json": {
       "$schema": "https://vega.github.io/schema/vega/v5.json",
       "autosize": "none",
       "data": [
        {
         "name": "table",
         "transform": [
          {
           "endAngle": {
            "signal": "endAngle"
           },
           "field": "field",
           "sort": {
            "signal": "sort"
           },
           "startAngle": {
            "signal": "startAngle"
           },
           "type": "pie"
          }
         ],
         "values": [
          {
           "field": 12,
           "id": "pre"
          },
          {
           "field": 22,
           "id": "span"
          },
          {
           "field": 30,
           "id": "h3"
          },
          {
           "field": 1,
           "id": "nav"
          },
          {
           "field": 21,
           "id": "img"
          },
          {
           "field": 11,
           "id": "ul"
          },
          {
           "field": 68,
           "id": "a"
          },
          {
           "field": 117,
           "id": "div"
          },
          {
           "field": 14,
           "id": "i"
          },
          {
           "field": 2,
           "id": "em"
          },
          {
           "field": 27,
           "id": "p"
          },
          {
           "field": 14,
           "id": "script"
          },
          {
           "field": 48,
           "id": "li"
          },
          {
           "field": 3,
           "id": "br"
          },
          {
           "field": 1,
           "id": "main"
          },
          {
           "field": 5,
           "id": "section"
          },
          {
           "field": 35,
           "id": "code"
          },
          {
           "field": 5,
           "id": "h2"
          },
          {
           "field": 1,
           "id": "h1"
          },
          {
           "field": 1,
           "id": "header"
          },
          {
           "field": 1,
           "id": "footer"
          },
          {
           "field": 1,
           "id": "input"
          }
         ]
        }
       ],
       "description": "A basic pie chart example.",
       "height": 600,
       "marks": [
        {
         "encode": {
          "enter": {
           "fill": {
            "field": "id",
            "scale": "color"
           },
           "x": {
            "signal": "width / 2"
           },
           "y": {
            "signal": "height / 2"
           }
          },
          "update": {
           "cornerRadius": {
            "signal": "cornerRadius"
           },
           "endAngle": {
            "field": "endAngle"
           },
           "innerRadius": {
            "signal": "innerRadius"
           },
           "outerRadius": {
            "signal": "width / 2"
           },
           "padAngle": {
            "signal": "padAngle"
           },
           "startAngle": {
            "field": "startAngle"
           }
          }
         },
         "from": {
          "data": "table"
         },
         "type": "arc"
        }
       ],
       "scales": [
        {
         "domain": {
          "data": "table",
          "field": "id"
         },
         "name": "color",
         "range": {
          "scheme": "category20"
         },
         "type": "ordinal"
        }
       ],
       "signals": [
        {
         "bind": {
          "input": "range",
          "max": 6.29,
          "min": 0,
          "step": 0.01
         },
         "name": "startAngle",
         "value": 0
        },
        {
         "bind": {
          "input": "range",
          "max": 6.29,
          "min": 0,
          "step": 0.01
         },
         "name": "endAngle",
         "value": 6.29
        },
        {
         "bind": {
          "input": "range",
          "max": 0.1,
          "min": 0
         },
         "name": "padAngle",
         "value": 0
        },
        {
         "bind": {
          "input": "range",
          "max": 90,
          "min": 0,
          "step": 1
         },
         "name": "innerRadius",
         "value": 0
        },
        {
         "bind": {
          "input": "range",
          "max": 10,
          "min": 0,
          "step": 0.5
         },
         "name": "cornerRadius",
         "value": 0
        },
        {
         "bind": {
          "input": "checkbox"
         },
         "name": "sort",
         "value": false
        }
       ],
       "width": 600
      }
     },
     "metadata": {},
     "output_type": "display_data"
    },
    {
     "data": {
      "text/plain": [
       "\u001b[36mres19\u001b[39m: \u001b[32mPieChart\u001b[39m = \u001b[33mPieChart\u001b[39m(\n",
       "  mods = \u001b[33mList\u001b[39m(\n",
       "    ammonite.$sess.cmd17$Helper$$Lambda$3590/0x00000008016f2e68@7ec1f41b,\n",
       "    ammonite.$sess.cmd17$Helper$$Lambda$3591/0x00000008016f3268@136d214f,\n",
       "    ammonite.$sess.cmd17$Helper$$Lambda$3592/0x00000008016f3668@335ba5df\n",
       "  )\n",
       ")"
      ]
     },
     "execution_count": 20,
     "metadata": {},
     "output_type": "execute_result"
    }
   ],
   "source": [
    "plotElementDist(\"https://www.scala-lang.org\")"
   ]
  },
  {
   "cell_type": "markdown",
   "metadata": {},
   "source": [
    "I quite like this, if you want to keep the data acquisition, and plotting as seperate concerns. The \"intent\" here is, to my eye, rather readable. Whilst plotting the html element counts of popular websites is... pointless, I found it extended nicely to other, more helpful problems :-)."
   ]
  },
  {
   "cell_type": "markdown",
   "metadata": {},
   "source": [
    "## Elephant\n",
    "\n",
    "There is however, a rather large elephant in the room - for this to work \"for you\", you have to be willing to do the legwork of learning vega. Whilst easy enough to trace the spec back, and find the \"example\" this refers to... I can't see a shortcut here for needing to understand and ultimately innovate on vega. That is actually a pretty fun undertaking... but it's (at least) a multiple day time investment. (A worthwhile one, I claim!)\n",
    "\n",
    "It isn't however realllllly ... \"plotting in scala\"... more like using scala to write vega."
   ]
  }
 ],
 "metadata": {
  "kernelspec": {
   "display_name": "Scala",
   "language": "scala",
   "name": "scala"
  },
  "language_info": {
   "codemirror_mode": "text/x-scala",
   "file_extension": ".sc",
   "mimetype": "text/x-scala",
   "name": "scala",
   "nbconvert_exporter": "script",
   "version": "2.13.8"
  },
  "orig_nbformat": 4
 },
 "nbformat": 4,
 "nbformat_minor": 2
}
