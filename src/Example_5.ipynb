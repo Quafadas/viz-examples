{
 "cells": [
  {
   "cell_type": "markdown",
   "metadata": {},
   "source": [
    "# Typesafe plotting?\n",
    "One idea of how to \"avoid vega\" was to see if we could make this \"typesafe\". Somehow. If you had a bunch of case classes which followed the vega JSON structure, then you'd get tab completion, editor support etc. Maybe this would dodge the \"having to learn vega\" problem.\n",
    "\n",
    "It turns out, that vega publish a [schema](https://github.com/vega/schema). What you'd now need, is a tool which [turned JSON schema into case classes](https://quicktype.io) along with someone nutty enough to fork it, [implement dodgy, experimental scala 3 support](https://github.com/Quafadas/quicktype/blob/scala3/src/quicktype-core/language/Scala3.ts) and point it at the vega schema. Then you'd get some [code]() and [javadoc]() along these lines."
   ]
  },
  {
   "cell_type": "code",
   "execution_count": 18,
   "metadata": {},
   "outputs": [
    {
     "data": {
      "text/plain": [
       "\u001b[32mimport \u001b[39m\u001b[36m$ivy.$                       \n",
       "\u001b[39m\n",
       "\u001b[32mimport \u001b[39m\u001b[36m$ivy.$                                  \n",
       "\n",
       "\u001b[39m\n",
       "\u001b[32mimport \u001b[39m\u001b[36morg.jsoup._\n",
       "\u001b[39m\n",
       "\u001b[32mimport \u001b[39m\u001b[36mcollection.JavaConverters._\n",
       "\u001b[39m\n",
       "\u001b[32mimport \u001b[39m\u001b[36mviz.PlotTargets.almond\n",
       "\u001b[39m\n",
       "\u001b[32mimport \u001b[39m\u001b[36mviz.vega.plots.PieChart\n",
       "\n",
       "\u001b[39m\n",
       "defined \u001b[32mfunction\u001b[39m \u001b[36mplotElementDist\u001b[39m"
      ]
     },
     "execution_count": 18,
     "metadata": {},
     "output_type": "execute_result"
    }
   ],
   "source": []
  },
  {
   "cell_type": "code",
   "execution_count": 21,
   "metadata": {},
   "outputs": [
    {
     "data": {
      "application/vnd.vega.v5+json": {
       "$schema": "https://vega.github.io/schema/vega/v5.json",
       "autosize": "none",
       "data": [
        {
         "name": "table",
         "transform": [
          {
           "endAngle": {
            "signal": "endAngle"
           },
           "field": "field",
           "sort": {
            "signal": "sort"
           },
           "startAngle": {
            "signal": "startAngle"
           },
           "type": "pie"
          }
         ],
         "values": [
          {
           "field": 1,
           "id": "textarea"
          },
          {
           "field": 18,
           "id": "span"
          },
          {
           "field": 7,
           "id": "svg"
          },
          {
           "field": 4,
           "id": "img"
          },
          {
           "field": 27,
           "id": "a"
          },
          {
           "field": 117,
           "id": "div"
          },
          {
           "field": 1,
           "id": "g-popup"
          },
          {
           "field": 8,
           "id": "g-menu-item"
          },
          {
           "field": 1,
           "id": "noscript"
          },
          {
           "field": 1,
           "id": "h1"
          },
          {
           "field": 8,
           "id": "input"
          },
          {
           "field": 1,
           "id": "dialog"
          },
          {
           "field": 10,
           "id": "path"
          },
          {
           "field": 1,
           "id": "rect"
          },
          {
           "field": 90,
           "id": "li"
          },
          {
           "field": 35,
           "id": "style"
          },
          {
           "field": 2,
           "id": "center"
          },
          {
           "field": 1,
           "id": "g-menu"
          },
          {
           "field": 3,
           "id": "ul"
          },
          {
           "field": 5,
           "id": "button"
          },
          {
           "field": 1,
           "id": "meta"
          },
          {
           "field": 5,
           "id": "script"
          },
          {
           "field": 1,
           "id": "form"
          }
         ]
        }
       ],
       "description": "A basic pie chart example.",
       "height": 600,
       "marks": [
        {
         "encode": {
          "enter": {
           "fill": {
            "field": "id",
            "scale": "color"
           },
           "x": {
            "signal": "width / 2"
           },
           "y": {
            "signal": "height / 2"
           }
          },
          "update": {
           "cornerRadius": {
            "signal": "cornerRadius"
           },
           "endAngle": {
            "field": "endAngle"
           },
           "innerRadius": {
            "signal": "innerRadius"
           },
           "outerRadius": {
            "signal": "width / 2"
           },
           "padAngle": {
            "signal": "padAngle"
           },
           "startAngle": {
            "field": "startAngle"
           }
          }
         },
         "from": {
          "data": "table"
         },
         "type": "arc"
        }
       ],
       "scales": [
        {
         "domain": {
          "data": "table",
          "field": "id"
         },
         "name": "color",
         "range": {
          "scheme": "category20"
         },
         "type": "ordinal"
        }
       ],
       "signals": [
        {
         "bind": {
          "input": "range",
          "max": 6.29,
          "min": 0,
          "step": 0.01
         },
         "name": "startAngle",
         "value": 0
        },
        {
         "bind": {
          "input": "range",
          "max": 6.29,
          "min": 0,
          "step": 0.01
         },
         "name": "endAngle",
         "value": 6.29
        },
        {
         "bind": {
          "input": "range",
          "max": 0.1,
          "min": 0
         },
         "name": "padAngle",
         "value": 0
        },
        {
         "bind": {
          "input": "range",
          "max": 90,
          "min": 0,
          "step": 1
         },
         "name": "innerRadius",
         "value": 0
        },
        {
         "bind": {
          "input": "range",
          "max": 10,
          "min": 0,
          "step": 0.5
         },
         "name": "cornerRadius",
         "value": 0
        },
        {
         "bind": {
          "input": "checkbox"
         },
         "name": "sort",
         "value": false
        }
       ],
       "width": 600
      }
     },
     "metadata": {},
     "output_type": "display_data"
    },
    {
     "data": {
      "text/plain": [
       "\u001b[36mres20\u001b[39m: \u001b[32mPieChart\u001b[39m = \u001b[33mPieChart\u001b[39m(\n",
       "  mods = \u001b[33mList\u001b[39m(\n",
       "    ammonite.$sess.cmd17$Helper$$Lambda$3590/0x00000008016f2e68@7ec1f41b,\n",
       "    ammonite.$sess.cmd17$Helper$$Lambda$3591/0x00000008016f3268@136d214f,\n",
       "    ammonite.$sess.cmd17$Helper$$Lambda$3592/0x00000008016f3668@31d934b8\n",
       "  )\n",
       ")"
      ]
     },
     "execution_count": 21,
     "metadata": {},
     "output_type": "execute_result"
    }
   ],
   "source": [
    "plotElementDist(\"https://google.com\")\n",
    "//val plot = plotElementDist(\"https://google.com\")\n",
    "// show(plot.spec) // for debugging a troublesome spec"
   ]
  },
  {
   "cell_type": "code",
   "execution_count": 20,
   "metadata": {},
   "outputs": [
    {
     "data": {
      "application/vnd.vega.v5+json": {
       "$schema": "https://vega.github.io/schema/vega/v5.json",
       "autosize": "none",
       "data": [
        {
         "name": "table",
         "transform": [
          {
           "endAngle": {
            "signal": "endAngle"
           },
           "field": "field",
           "sort": {
            "signal": "sort"
           },
           "startAngle": {
            "signal": "startAngle"
           },
           "type": "pie"
          }
         ],
         "values": [
          {
           "field": 12,
           "id": "pre"
          },
          {
           "field": 22,
           "id": "span"
          },
          {
           "field": 30,
           "id": "h3"
          },
          {
           "field": 1,
           "id": "nav"
          },
          {
           "field": 21,
           "id": "img"
          },
          {
           "field": 11,
           "id": "ul"
          },
          {
           "field": 68,
           "id": "a"
          },
          {
           "field": 117,
           "id": "div"
          },
          {
           "field": 14,
           "id": "i"
          },
          {
           "field": 2,
           "id": "em"
          },
          {
           "field": 27,
           "id": "p"
          },
          {
           "field": 14,
           "id": "script"
          },
          {
           "field": 48,
           "id": "li"
          },
          {
           "field": 3,
           "id": "br"
          },
          {
           "field": 1,
           "id": "main"
          },
          {
           "field": 5,
           "id": "section"
          },
          {
           "field": 35,
           "id": "code"
          },
          {
           "field": 5,
           "id": "h2"
          },
          {
           "field": 1,
           "id": "h1"
          },
          {
           "field": 1,
           "id": "header"
          },
          {
           "field": 1,
           "id": "footer"
          },
          {
           "field": 1,
           "id": "input"
          }
         ]
        }
       ],
       "description": "A basic pie chart example.",
       "height": 600,
       "marks": [
        {
         "encode": {
          "enter": {
           "fill": {
            "field": "id",
            "scale": "color"
           },
           "x": {
            "signal": "width / 2"
           },
           "y": {
            "signal": "height / 2"
           }
          },
          "update": {
           "cornerRadius": {
            "signal": "cornerRadius"
           },
           "endAngle": {
            "field": "endAngle"
           },
           "innerRadius": {
            "signal": "innerRadius"
           },
           "outerRadius": {
            "signal": "width / 2"
           },
           "padAngle": {
            "signal": "padAngle"
           },
           "startAngle": {
            "field": "startAngle"
           }
          }
         },
         "from": {
          "data": "table"
         },
         "type": "arc"
        }
       ],
       "scales": [
        {
         "domain": {
          "data": "table",
          "field": "id"
         },
         "name": "color",
         "range": {
          "scheme": "category20"
         },
         "type": "ordinal"
        }
       ],
       "signals": [
        {
         "bind": {
          "input": "range",
          "max": 6.29,
          "min": 0,
          "step": 0.01
         },
         "name": "startAngle",
         "value": 0
        },
        {
         "bind": {
          "input": "range",
          "max": 6.29,
          "min": 0,
          "step": 0.01
         },
         "name": "endAngle",
         "value": 6.29
        },
        {
         "bind": {
          "input": "range",
          "max": 0.1,
          "min": 0
         },
         "name": "padAngle",
         "value": 0
        },
        {
         "bind": {
          "input": "range",
          "max": 90,
          "min": 0,
          "step": 1
         },
         "name": "innerRadius",
         "value": 0
        },
        {
         "bind": {
          "input": "range",
          "max": 10,
          "min": 0,
          "step": 0.5
         },
         "name": "cornerRadius",
         "value": 0
        },
        {
         "bind": {
          "input": "checkbox"
         },
         "name": "sort",
         "value": false
        }
       ],
       "width": 600
      }
     },
     "metadata": {},
     "output_type": "display_data"
    },
    {
     "data": {
      "text/plain": [
       "\u001b[36mres19\u001b[39m: \u001b[32mPieChart\u001b[39m = \u001b[33mPieChart\u001b[39m(\n",
       "  mods = \u001b[33mList\u001b[39m(\n",
       "    ammonite.$sess.cmd17$Helper$$Lambda$3590/0x00000008016f2e68@7ec1f41b,\n",
       "    ammonite.$sess.cmd17$Helper$$Lambda$3591/0x00000008016f3268@136d214f,\n",
       "    ammonite.$sess.cmd17$Helper$$Lambda$3592/0x00000008016f3668@335ba5df\n",
       "  )\n",
       ")"
      ]
     },
     "execution_count": 20,
     "metadata": {},
     "output_type": "execute_result"
    }
   ],
   "source": [
    "plotElementDist(\"https://www.scala-lang.org\")"
   ]
  },
  {
   "cell_type": "markdown",
   "metadata": {},
   "source": [
    "I quite like this, because once the setup problem is solved, the \"intent\" is, to my eye, rather readable. Whilst plotting the html element counts of popular websites is... pointless, this should extend nicely to other, helpful problems :-)."
   ]
  },
  {
   "cell_type": "markdown",
   "metadata": {},
   "source": [
    "## Elephant\n",
    "\n",
    "There is however, a rather large elephant in the room - for this to work \"for you\", you have to be willing to do the legwork of learning vega. Whilst easy enough to trace the spec back, and find the \"example\" this refers to... you'll need to understand and ultimately innovate on vega. \n",
    "\n",
    "That is actually a pretty fun undertaking... but it's (at least) a multiple day time investment. (A worthwhile one, I claim!)"
   ]
  }
 ],
 "metadata": {
  "kernelspec": {
   "display_name": "Scala",
   "language": "scala",
   "name": "scala"
  },
  "language_info": {
   "codemirror_mode": "text/x-scala",
   "file_extension": ".sc",
   "mimetype": "text/x-scala",
   "name": "scala",
   "nbconvert_exporter": "script",
   "version": "2.13.8"
  },
  "orig_nbformat": 4
 },
 "nbformat": 4,
 "nbformat_minor": 2
}
