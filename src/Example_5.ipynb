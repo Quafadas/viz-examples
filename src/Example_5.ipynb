{
 "cells": [
  {
   "attachments": {},
   "cell_type": "markdown",
   "metadata": {},
   "source": [
    "# Typesafe plotting?\n",
    "One idea of how to \"avoid writing a vega spec in mutable JSON\" was to see if we could make this \"typesafe\". Somehow. If you had a bunch of case classes which followed the vega JSON structure, then you'd get tab completion, editor support etc. Maybe this would dodge the \"having to learn vega\" problem.\n",
    "\n",
    "It turns out, that vega publish a [schema](https://github.com/vega/schema). What you'd now need, is a tool which [turned JSON schema into case classes](https://quicktype.io) along with someone nutty enough to fork it, [implement dodgy, experimental scala 3 support](https://github.com/Quafadas/quicktype/blob/scala3/src/quicktype-core/language/Scala3.ts) and point it at the vega schema. Then you'd get some [code]() and [javadoc]([![javadoc](https://javadoc.io/badge2/io.github.quafadas/dedav4s_3/javadoc.svg)](https://javadoc.io/doc/io.github.quafadas/dedav4s_3)) along these lines, and could try this;"
   ]
  },
  {
   "cell_type": "code",
   "execution_count": 1,
   "metadata": {},
   "outputs": [
    {
     "data": {
      "text/plain": [
       "\u001b[32mimport \u001b[39m\u001b[36m$ivy.$                                                                  \n",
       "\u001b[39m\n",
       "\u001b[32mimport \u001b[39m\u001b[36m$ivy.$                            \n",
       "\n",
       "\u001b[39m\n",
       "\u001b[32mimport \u001b[39m\u001b[36mviz.PlotTargets.almond\n",
       "\u001b[39m\n",
       "\u001b[32mimport \u001b[39m\u001b[36mviz.dsl.vegaLite.*\n",
       "\u001b[39m\n",
       "\u001b[32mimport \u001b[39m\u001b[36mviz.dsl.DslPlot.*\n",
       "\u001b[39m\n",
       "\u001b[32mimport \u001b[39m\u001b[36mio.circe.*\n",
       "\u001b[39m\n",
       "\u001b[32mimport \u001b[39m\u001b[36mio.circe.parser.*\n",
       "\u001b[39m\n",
       "\u001b[32mimport \u001b[39m\u001b[36mio.circe.syntax.*\n",
       "\u001b[39m\n",
       "\u001b[32mimport \u001b[39m\u001b[36mcats.syntax.all.*\n",
       "\u001b[39m\n",
       "\u001b[32mimport \u001b[39m\u001b[36mviz.vega.plots.SpecUrl\n",
       "\n",
       "\u001b[39m\n",
       "defined \u001b[32mclass\u001b[39m \u001b[36mLinePlottable\u001b[39m\n",
       "defined \u001b[32mfunction\u001b[39m \u001b[36mtoPlotDataset\u001b[39m\n",
       "\u001b[36msomePlot\u001b[39m: \u001b[32mVegaLiteDsl\u001b[39m = \u001b[33mVegaLiteDsl\u001b[39m(\n",
       "  $schema = \u001b[33mSome\u001b[39m(value = \u001b[32m\"https://vega.github.io/schema/vega-lite/v5.json\"\u001b[39m),\n",
       "  align = \u001b[32mNone\u001b[39m,\n",
       "  autosize = \u001b[32mNone\u001b[39m,\n",
       "  background = \u001b[32mNone\u001b[39m,\n",
       "  bounds = \u001b[32mNone\u001b[39m,\n",
       "  center = \u001b[32mNone\u001b[39m,\n",
       "  config = \u001b[32mNone\u001b[39m,\n",
       "  data = \u001b[33mSome\u001b[39m(\n",
       "    value = \u001b[33mURLData\u001b[39m(\n",
       "      format = \u001b[32mNone\u001b[39m,\n",
       "      name = \u001b[32mNone\u001b[39m,\n",
       "      url = \u001b[33mSome\u001b[39m(value = \u001b[32m\"data/stocks.csv\"\u001b[39m),\n",
       "      values = \u001b[32mNone\u001b[39m,\n",
       "      sequence = \u001b[32mNone\u001b[39m,\n",
       "      sphere = \u001b[32mNone\u001b[39m,\n",
       "      graticule = \u001b[32mNone\u001b[39m\n",
       "    )\n",
       "  ),\n",
       "  datasets = \u001b[32mNone\u001b[39m,\n",
       "  description = \u001b[33mSome\u001b[39m(value = \u001b[32m\"Google's stock price over time.\"\u001b[39m),\n",
       "  encoding = \u001b[33mSome\u001b[39m(\n",
       "    value = \u001b[33mEdEncoding\u001b[39m(\n",
       "      angle = \u001b[32mNone\u001b[39m,\n",
       "      color = \u001b[32mNone\u001b[39m,\n",
       "      column = \u001b[32mNone\u001b[39m,\n",
       "      description = \u001b[32mNone\u001b[39m,\n",
       "      detail = \u001b[32mNone\u001b[39m,\n",
       "      facet = \u001b[32mNone\u001b[39m,\n",
       "      fill = \u001b[32mNone\u001b[39m,\n",
       "      fillOpacity = \u001b[32mNone\u001b[39m,\n",
       "      href = \u001b[32mNone\u001b[39m,\n",
       "      key = \u001b[32mNone\u001b[39m,\n",
       "      latitude = \u001b[32mNone\u001b[39m,\n",
       "      latitude2 = \u001b[32mNone\u001b[39m,\n",
       "      longitude = \u001b[32mNone\u001b[39m,\n",
       "      longitude2 = \u001b[32mNone\u001b[39m,\n",
       "      opacity = \u001b[32mNone\u001b[39m,\n",
       "      order = \u001b[32mNone\u001b[39m,\n",
       "..."
      ]
     },
     "execution_count": 1,
     "metadata": {},
     "output_type": "execute_result"
    }
   ],
   "source": [
    "import $ivy.`io.github.quafadas::dedav4s:0.9-9531ccc-20230523T195316Z-SNAPSHOT`\n",
    "import $ivy.`io.circe::circe-core:0.14.5`\n",
    "\n",
    "import viz.PlotTargets.almond\n",
    "import viz.dsl.vegaLite.*\n",
    "import viz.dsl.DslPlot.*\n",
    "import io.circe.*\n",
    "import io.circe.parser.*\n",
    "import io.circe.syntax.*\n",
    "import cats.syntax.all.*\n",
    "import viz.vega.plots.SpecUrl\n",
    "\n",
    "case class LinePlottable(x:Double, y:Double) \n",
    "\n",
    "def toPlotDataset(p: Seq[LinePlottable]): URLData =\n",
    "  val inlineDataset : InlineDataset = for(p1 <- p) yield {        \n",
    "    Map(\"x\"-> Encoder.encodeDouble(p1.x).some, \"y\" -> Encoder.encodeDouble(p1.y).some)\n",
    "  }\n",
    "  URLData(\n",
    "    values = inlineDataset.some\n",
    "  )\n",
    "end toPlotDataset\n",
    "\n",
    "val somePlot : VegaLiteDsl = decode[VegaLiteDsl]( viz.vega.plots.SpecUrl.LineChartLite.jsonSpec.toString()).fold(error => throw new Exception(error), identity)\n",
    "\n",
    "//somePlot.plot\n",
    "\n"
   ]
  },
  {
   "attachments": {},
   "cell_type": "markdown",
   "metadata": {},
   "source": [
    "This is nominally \"typesafe\". You get tab completion, and the compiler will tell you if you've made a mistake. But it's not _that_ typesafe - it's pure coincidence, that the case class happens to have the x,y fields, which are needed, by this particular plot. \n",
    "\n",
    "In the end, `Map[String, Double]` isnt _significantly_ better than the mutable alternative earlier. Definitely more headspace to get there, though. "
   ]
  }
 ],
 "metadata": {
  "kernelspec": {
   "display_name": "Scala",
   "language": "scala",
   "name": "scala"
  },
  "language_info": {
   "codemirror_mode": "text/x-scala",
   "file_extension": ".sc",
   "mimetype": "text/x-scala",
   "name": "scala",
   "nbconvert_exporter": "script",
   "version": "2.13.10"
  },
  "orig_nbformat": 4
 },
 "nbformat": 4,
 "nbformat_minor": 2
}
