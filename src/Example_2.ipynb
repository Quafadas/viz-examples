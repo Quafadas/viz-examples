{
 "cells": [
  {
   "cell_type": "markdown",
   "metadata": {},
   "source": [
    "# Declarative Data Visualisation\n",
    "This strategy is \"declarative\" in nature. Instead of writing a \"program\" in the traditional sense, we write instead a JSON \"spec\" which is fed to an interpreter. The interpreter deals with the tedious mathematics, getting lines on screens etc. Libraries which follow this approach include, but are not limited to \n",
    "\n",
    "- [Vega](https://vega.github.io)\n",
    "- [Vega lite](https://vega.github.io/vega-lite)\n",
    "- [Apache E-charts](https://echarts.apache.org/en/index.html)\n",
    "- [Plotly](https://plotly.com/graphing-libraries/)\n",
    "\n",
    "Co-incidentally, all of these libraries, use JSON as the \"spec format\". There's actually nothing really special about the choice of vega here... other than it's convieniently built right into Jupyter :-)."
   ]
  },
  {
   "cell_type": "code",
   "execution_count": 3,
   "metadata": {},
   "outputs": [
    {
     "data": {
      "application/vnd.vega.v5+json": {
       "$schema": "https://vega.github.io/schema/vega-lite/v5.json",
       "data": {
        "values": [
         {
          "a": "Fabulous",
          "b": -10
         },
         {
          "a": "Charting",
          "b": 10
         },
         {
          "a": "Potential",
          "b": 100
         }
        ]
       },
       "description": "A simple bar chart with embedded data.",
       "encoding": {
        "x": {
         "axis": {
          "labelAngle": 0
         },
         "field": "a",
         "type": "nominal"
        },
        "y": {
         "field": "b",
         "type": "quantitative"
        }
       },
       "mark": "bar",
       "width": 300
      }
     },
     "metadata": {},
     "output_type": "display_data"
    }
   ],
   "source": [
    "private val spec = ujson.read(\"\"\"{\n",
    "    \"$schema\": \"https://vega.github.io/schema/vega-lite/v5.json\",\n",
    "    \"description\": \"A simple bar chart with embedded data.\",\n",
    "    \"data\": {\n",
    "      \"values\": [\n",
    "        {\"a\": \"A\", \"b\": 28}, {\"a\": \"B\", \"b\": 55}, {\"a\": \"C\", \"b\": 43}\n",
    "      ]\n",
    "    },\n",
    "    \"mark\": \"bar\",\n",
    "    \"encoding\": {\n",
    "      \"x\": {\"field\": \"a\", \"type\": \"nominal\", \"axis\": {\"labelAngle\": 0}},\n",
    "      \"y\": {\"field\": \"b\", \"type\": \"quantitative\"}\n",
    "    },\n",
    "    \"width\" : 300\n",
    "}\n",
    "\"\"\")\n",
    "\n",
    "spec(\"data\")(\"values\") = ujson.Arr(\n",
    "  ujson.Obj(\"a\" -> \"Fabulous\", \"b\" -> -10),\n",
    "  ujson.Obj(\"a\" -> \"Charting\", \"b\" -> 10),\n",
    "  ujson.Obj(\"a\" -> \"Potential\", \"b\" -> 100)\n",
    ")\n",
    "\n",
    "\n",
    "kernel.publish.display(\n",
    "  almond.interpreter.api.DisplayData(\n",
    "        data = Map(\n",
    "          \"application/vnd.vega.v5+json\" -> ujson.write(spec)\n",
    "        )\n",
    "  )\n",
    ")"
   ]
  },
  {
   "cell_type": "markdown",
   "metadata": {},
   "source": [
    "Now we changed the data! By mutating an object... if you like immutable scala, maybe that part was painful on the eyeballs :-). \n",
    "\n",
    "However, I would not rush to discard this as a plotting solution - looks nasty, but surprisingly, solves the general problem. By reading the vega docs, you can plot _anything_ (that vega can plot) like this. I hesitate to point out that \"making the correct JSON\" is a testable problem... \n",
    "\n",
    "Also, this strategy trivially cross compiles to scala JS. It's easy to setup if you are willing to totally plagarise [SJRDs example](https://github.com/sjrd/scalajs-sbt-vite-laminar-chartjs-example), and change it slightly to [bundle vega embed](https://github.com/Quafadas/scalajs-sbt-vite-laminar-chartjs-example) and write a [simple facade](https://github.com/Quafadas/dedav4s/blob/861c3fa38f41084f9d2e1ea168da40aab22eccf5/core/js/src/main/scala/viz/vega/facades/VegaEmbed.scala#L83). It's also pretty easy to embed in something like play! if you have static routes - just pump out the JSON into the template and include the libraries in the header of the page.\n",
    "\n",
    "So you already have \"full stack\" embedabble plots, and the only library you need, is ~~ujson~~ any Json library. \n",
    "\n",
    "With ujson, it's easy to mess around in Jupyter / ammonite JVM land then use the _exact same code_ to publish in your full stack project. \n",
    "\n",
    "I claim that, if the use case is a single, complex chart, and you're willing to\n",
    "- solve the meta-problems of getting vega libs in the right place\n",
    "- write the facade\n",
    "- use mutable stuff\n",
    "\n",
    "Then we're done. Surpisingly, I claim this solution is significantly less sh*t than it would appear at first blush - I've used it to visualise (on the fly) the [high dimensional characsterics](https://vega.github.io/vega/examples/brushing-scatter-plots/) of a portfolio of reinsurance contracts...\n",
    "\n",
    "For posterity, my first attempt at using vega from scala, was a [bunch of ammonite scripts](https://github.com/Quafadas/nkd-vis) that explored this strategy - but that's a historical artefact and \"part of the journey\" rather than something to actually go read."
   ]
  }
 ],
 "metadata": {
  "kernelspec": {
   "display_name": "Scala",
   "language": "scala",
   "name": "scala"
  },
  "language_info": {
   "codemirror_mode": "text/x-scala",
   "file_extension": ".sc",
   "mimetype": "text/x-scala",
   "name": "scala",
   "nbconvert_exporter": "script",
   "version": "2.13.8"
  },
  "orig_nbformat": 4
 },
 "nbformat": 4,
 "nbformat_minor": 2
}
