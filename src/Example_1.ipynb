{
 "cells": [
  {
   "cell_type": "markdown",
   "metadata": {},
   "source": [
    "# The simplest example\n",
    "We copy-paste a very simple example from the vega-lite examples. \n",
    "https://vega.github.io/vega-lite/examples/bar.html\n",
    "\n",
    "If you've never used vega-lite before, it might be helpful to understaned what they are. Basically an interpreter that makes cunningly formed JSON look like a chart. Sounds like it might be simplistic... until you look at what they can do in the examples :-). \n",
    "https://www.youtube.com/watch?v=9uaHRWj04D4\n",
    "\n",
    "Apache e-charts, also works in a \"declarative\" manner. It's one of the better paradigms I've (personally) come across. Also, it's JSON... so conceptually, you can form your chart in any language, as long as you can then feed it to javascript."
   ]
  },
  {
   "cell_type": "markdown",
   "metadata": {},
   "source": [
    "## Show me a chart\n",
    "\n",
    "For our first example, it turns out that, if you feed Jupyter the right mime-type... it'll treat your JSON as a chart. So from totally first princples, here's how one could plot a chart in scala..."
   ]
  },
  {
   "cell_type": "code",
   "execution_count": 5,
   "metadata": {},
   "outputs": [
    {
     "data": {
      "application/vnd.vega.v5+json": {
       "$schema": "https://vega.github.io/schema/vega-lite/v5.json",
       "data": {
        "values": [
         {
          "a": "A",
          "b": 28
         },
         {
          "a": "B",
          "b": 55
         },
         {
          "a": "C",
          "b": 43
         }
        ]
       },
       "description": "A simple bar chart with embedded data.",
       "encoding": {
        "x": {
         "axis": {
          "labelAngle": 0
         },
         "field": "a",
         "type": "nominal"
        },
        "y": {
         "field": "b",
         "type": "quantitative"
        }
       },
       "mark": "bar",
       "width": 300
      }
     },
     "metadata": {},
     "output_type": "display_data"
    }
   ],
   "source": [
    "private val spec = \"\"\"{\n",
    "    \"$schema\": \"https://vega.github.io/schema/vega-lite/v5.json\",\n",
    "    \"description\": \"A simple bar chart with embedded data.\",\n",
    "    \"data\": {\n",
    "      \"values\": [\n",
    "        {\"a\": \"A\", \"b\": 28}, {\"a\": \"B\", \"b\": 55}, {\"a\": \"C\", \"b\": 43}\n",
    "      ]\n",
    "    },\n",
    "    \"mark\": \"bar\",\n",
    "    \"encoding\": {\n",
    "      \"x\": {\"field\": \"a\", \"type\": \"nominal\", \"axis\": {\"labelAngle\": 0}},\n",
    "      \"y\": {\"field\": \"b\", \"type\": \"quantitative\"}\n",
    "    },\n",
    "    \"width\" : 300\n",
    "}\n",
    "\"\"\"\n",
    "kernel.publish.display(\n",
    "  almond.interpreter.api.DisplayData(\n",
    "        data = Map(\n",
    "          \"application/vnd.vega.v5+json\" -> spec\n",
    "        )\n",
    "  )\n",
    ")"
   ]
  }
 ],
 "metadata": {
  "kernelspec": {
   "display_name": "Scala",
   "language": "scala",
   "name": "scala"
  },
  "language_info": {
   "codemirror_mode": "text/x-scala",
   "file_extension": ".sc",
   "mimetype": "text/x-scala",
   "name": "scala",
   "nbconvert_exporter": "script",
   "version": "2.13.8"
  },
  "orig_nbformat": 4
 },
 "nbformat": 4,
 "nbformat_minor": 2
}
