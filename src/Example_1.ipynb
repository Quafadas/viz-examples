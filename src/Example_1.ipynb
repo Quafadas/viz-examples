{
 "cells": [
  {
   "cell_type": "markdown",
   "metadata": {},
   "source": [
    "# The simplest example\n",
    "Select the scala kernel from the kernel picker (you may need to install the [almond](https://almond.sh) kernel), and run the cell below. "
   ]
  },
  {
   "cell_type": "code",
   "execution_count": 2,
   "metadata": {},
   "outputs": [
    {
     "data": {
      "application/vnd.vega.v5+json": {
       "$schema": "https://vega.github.io/schema/vega-lite/v5.json",
       "data": {
        "values": [
         {
          "a": "A",
          "b": 28
         },
         {
          "a": "B",
          "b": 55
         },
         {
          "a": "C",
          "b": 43
         }
        ]
       },
       "description": "A simple bar chart with embedded data.",
       "encoding": {
        "x": {
         "axis": {
          "labelAngle": 0
         },
         "field": "a",
         "type": "nominal"
        },
        "y": {
         "field": "b",
         "type": "quantitative"
        }
       },
       "mark": "bar",
       "width": 300
      }
     },
     "metadata": {},
     "output_type": "display_data"
    }
   ],
   "source": [
    "private val spec = \"\"\"{\n",
    "    \"$schema\": \"https://vega.github.io/schema/vega-lite/v5.json\",\n",
    "    \"description\": \"A simple bar chart with embedded data.\",\n",
    "    \"data\": {\n",
    "      \"values\": [\n",
    "        {\"a\": \"A\", \"b\": 28}, {\"a\": \"B\", \"b\": 55}, {\"a\": \"C\", \"b\": 43}\n",
    "      ]\n",
    "    },\n",
    "    \"mark\": \"bar\",\n",
    "    \"encoding\": {\n",
    "      \"x\": {\"field\": \"a\", \"type\": \"nominal\", \"axis\": {\"labelAngle\": 0}},\n",
    "      \"y\": {\"field\": \"b\", \"type\": \"quantitative\"}\n",
    "    },\n",
    "    \"width\" : 300\n",
    "}\n",
    "\"\"\"\n",
    "kernel.publish.display(\n",
    "  almond.interpreter.api.DisplayData(\n",
    "        data = Map(\n",
    "          \"application/vnd.vega.v5+json\" -> spec\n",
    "        )\n",
    "  )\n",
    ")"
   ]
  },
  {
   "cell_type": "markdown",
   "metadata": {},
   "source": [
    "Hopefully, you've created a bar plot, which looks like this.\n",
    "\n",
    "![Bar](pictures/Simple_Bar.png)\n",
    "## So, what happened?\n",
    "\n",
    "There are really only two scala statements here:\n",
    "1. Declare a cunningly constructed string\n",
    "2. Feed it to the almond kernel \n",
    "\n",
    "Key Points: \n",
    "- You'll note that if you feed Jupyter the right mime-type... it will \n",
    "    - treat your string as a chart \n",
    "    - wheel in the vega libraries and generally manage the meta problems of getting all that infrastructure in the right place. Rather convienient. \n",
    "- At first glance, this \"feed the kernel a mime type\" looks a bit brittle. Importantly though, this is the key part of how many visualisation libraries work under the hood in Jupyter. One famous example is [Altair](https://altair-viz.github.io/getting_started/overview.html), one of the marquee python data science plotting libraries. So this is a surprinsingly robust solution, that works across many Jupyter frontends\n",
    "- That \"cunningly constructed\" string, looks a lot like JSON...\n",
    "\n"
   ]
  }
 ],
 "metadata": {
  "kernelspec": {
   "display_name": "Scala",
   "language": "scala",
   "name": "scala"
  },
  "language_info": {
   "codemirror_mode": "text/x-scala",
   "file_extension": ".sc",
   "mimetype": "text/x-scala",
   "name": "scala",
   "nbconvert_exporter": "script",
   "version": "2.13.8"
  },
  "orig_nbformat": 4
 },
 "nbformat": 4,
 "nbformat_minor": 2
}
